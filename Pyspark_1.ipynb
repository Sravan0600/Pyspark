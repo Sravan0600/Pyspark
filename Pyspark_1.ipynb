{
  "nbformat": 4,
  "nbformat_minor": 0,
  "metadata": {
    "colab": {
      "provenance": []
    },
    "kernelspec": {
      "name": "python3",
      "display_name": "Python 3"
    },
    "language_info": {
      "name": "python"
    }
  },
  "cells": [
    {
      "cell_type": "code",
      "execution_count": null,
      "metadata": {
        "colab": {
          "base_uri": "https://localhost:8080/"
        },
        "id": "vOhNtWrtI8bx",
        "outputId": "9c5947ee-87f5-438c-96c3-2ee2b42e600c"
      },
      "outputs": [
        {
          "output_type": "stream",
          "name": "stdout",
          "text": [
            "Collecting pyspark\n",
            "  Downloading pyspark-3.5.2.tar.gz (317.3 MB)\n",
            "\u001b[2K     \u001b[90m━━━━━━━━━━━━━━━━━━━━━━━━━━━━━━━━━━━━━━━━\u001b[0m \u001b[32m317.3/317.3 MB\u001b[0m \u001b[31m1.6 MB/s\u001b[0m eta \u001b[36m0:00:00\u001b[0m\n",
            "\u001b[?25h  Preparing metadata (setup.py) ... \u001b[?25l\u001b[?25hdone\n",
            "Requirement already satisfied: py4j==0.10.9.7 in /usr/local/lib/python3.10/dist-packages (from pyspark) (0.10.9.7)\n",
            "Building wheels for collected packages: pyspark\n",
            "  Building wheel for pyspark (setup.py) ... \u001b[?25l\u001b[?25hdone\n",
            "  Created wheel for pyspark: filename=pyspark-3.5.2-py2.py3-none-any.whl size=317812365 sha256=7288aca29bc44e379e32f5501e6b358fabfc42a9b580418784b9d63ab10e1889\n",
            "  Stored in directory: /root/.cache/pip/wheels/34/34/bd/03944534c44b677cd5859f248090daa9fb27b3c8f8e5f49574\n",
            "Successfully built pyspark\n",
            "Installing collected packages: pyspark\n",
            "Successfully installed pyspark-3.5.2\n"
          ]
        }
      ],
      "source": [
        "pip install pyspark"
      ]
    },
    {
      "cell_type": "markdown",
      "source": [
        "# Import libraries\n"
      ],
      "metadata": {
        "id": "UpN0jWPRJZkN"
      }
    },
    {
      "source": [
        "import pyspark\n",
        "from pyspark.sql import SparkSession\n",
        "#StructField and StructType are in pyspark.sql.types\n",
        "from pyspark.sql.types import StructType,StructField, StringType, IntegerType\n",
        "from pyspark.sql.types import *"
      ],
      "cell_type": "code",
      "metadata": {
        "id": "afPpy0uoJzM7"
      },
      "execution_count": null,
      "outputs": []
    },
    {
      "cell_type": "markdown",
      "source": [
        "# Create DataFrame"
      ],
      "metadata": {
        "id": "PgSy8RP8J3Aa"
      }
    },
    {
      "cell_type": "code",
      "source": [
        "spark = SparkSession.builder.appName('MyApp').getOrCreate()\n",
        "\n",
        "df = spark.read.load('/content/googleplaystore.csv', format='csv', sep=',', header=True, escape='\"', inferSchema=True)"
      ],
      "metadata": {
        "id": "cGea0ubbJ8o_"
      },
      "execution_count": null,
      "outputs": []
    },
    {
      "cell_type": "code",
      "source": [
        "df.count()"
      ],
      "metadata": {
        "colab": {
          "base_uri": "https://localhost:8080/"
        },
        "id": "M-6OYm5YK2X5",
        "outputId": "01024e9a-7709-47dd-f233-60df8cdaabfd"
      },
      "execution_count": null,
      "outputs": [
        {
          "output_type": "execute_result",
          "data": {
            "text/plain": [
              "10841"
            ]
          },
          "metadata": {},
          "execution_count": 6
        }
      ]
    },
    {
      "cell_type": "code",
      "source": [
        "df.show(1)"
      ],
      "metadata": {
        "colab": {
          "base_uri": "https://localhost:8080/"
        },
        "id": "pi379SCvK3vf",
        "outputId": "4949a3d7-8c9e-4d4a-ebfb-2df11112b51a"
      },
      "execution_count": null,
      "outputs": [
        {
          "output_type": "stream",
          "name": "stdout",
          "text": [
            "+--------------------+--------------+------+-------+----+--------+----+-----+--------------+------------+---------------+-----------+------------+\n",
            "|                 App|      Category|Rating|Reviews|Size|Installs|Type|Price|Content Rating|      Genres|   Last Updated|Current Ver| Android Ver|\n",
            "+--------------------+--------------+------+-------+----+--------+----+-----+--------------+------------+---------------+-----------+------------+\n",
            "|Photo Editor & Ca...|ART_AND_DESIGN|   4.1|    159| 19M| 10,000+|Free|    0|      Everyone|Art & Design|January 7, 2018|      1.0.0|4.0.3 and up|\n",
            "+--------------------+--------------+------+-------+----+--------+----+-----+--------------+------------+---------------+-----------+------------+\n",
            "only showing top 1 row\n",
            "\n"
          ]
        }
      ]
    },
    {
      "cell_type": "markdown",
      "source": [
        "# Check Schema"
      ],
      "metadata": {
        "id": "tBFzssMELBqu"
      }
    },
    {
      "cell_type": "code",
      "source": [
        "df.printSchema()"
      ],
      "metadata": {
        "colab": {
          "base_uri": "https://localhost:8080/"
        },
        "id": "lG4Fq7UPK8j5",
        "outputId": "d9e79d98-7db7-482c-e74f-ec81a75e01f7"
      },
      "execution_count": null,
      "outputs": [
        {
          "output_type": "stream",
          "name": "stdout",
          "text": [
            "root\n",
            " |-- App: string (nullable = true)\n",
            " |-- Category: string (nullable = true)\n",
            " |-- Rating: double (nullable = true)\n",
            " |-- Reviews: string (nullable = true)\n",
            " |-- Size: string (nullable = true)\n",
            " |-- Installs: string (nullable = true)\n",
            " |-- Type: string (nullable = true)\n",
            " |-- Price: string (nullable = true)\n",
            " |-- Content Rating: string (nullable = true)\n",
            " |-- Genres: string (nullable = true)\n",
            " |-- Last Updated: string (nullable = true)\n",
            " |-- Current Ver: string (nullable = true)\n",
            " |-- Android Ver: string (nullable = true)\n",
            "\n"
          ]
        }
      ]
    },
    {
      "cell_type": "markdown",
      "source": [
        "# Data Cleaning"
      ],
      "metadata": {
        "id": "-GauIjYfLRsU"
      }
    },
    {
      "cell_type": "code",
      "source": [
        "df = df.drop('size', 'Content Rating', 'Last Updated', 'Android Ver')"
      ],
      "metadata": {
        "id": "An3u3BnuLGkM"
      },
      "execution_count": null,
      "outputs": []
    },
    {
      "cell_type": "code",
      "source": [
        "df.show()"
      ],
      "metadata": {
        "colab": {
          "base_uri": "https://localhost:8080/"
        },
        "id": "kQb_TaL-LlYr",
        "outputId": "b1d438f8-1d23-48cb-8fa6-376b3517ddde"
      },
      "execution_count": null,
      "outputs": [
        {
          "output_type": "stream",
          "name": "stdout",
          "text": [
            "+--------------------+--------------+------+-------+-----------+----+-----+--------------------+------------------+\n",
            "|                 App|      Category|Rating|Reviews|   Installs|Type|Price|              Genres|       Current Ver|\n",
            "+--------------------+--------------+------+-------+-----------+----+-----+--------------------+------------------+\n",
            "|Photo Editor & Ca...|ART_AND_DESIGN|   4.1|    159|    10,000+|Free|    0|        Art & Design|             1.0.0|\n",
            "| Coloring book moana|ART_AND_DESIGN|   3.9|    967|   500,000+|Free|    0|Art & Design;Pret...|             2.0.0|\n",
            "|U Launcher Lite –...|ART_AND_DESIGN|   4.7|  87510| 5,000,000+|Free|    0|        Art & Design|             1.2.4|\n",
            "|Sketch - Draw & P...|ART_AND_DESIGN|   4.5| 215644|50,000,000+|Free|    0|        Art & Design|Varies with device|\n",
            "|Pixel Draw - Numb...|ART_AND_DESIGN|   4.3|    967|   100,000+|Free|    0|Art & Design;Crea...|               1.1|\n",
            "|Paper flowers ins...|ART_AND_DESIGN|   4.4|    167|    50,000+|Free|    0|        Art & Design|               1.0|\n",
            "|Smoke Effect Phot...|ART_AND_DESIGN|   3.8|    178|    50,000+|Free|    0|        Art & Design|               1.1|\n",
            "|    Infinite Painter|ART_AND_DESIGN|   4.1|  36815| 1,000,000+|Free|    0|        Art & Design|          6.1.61.1|\n",
            "|Garden Coloring Book|ART_AND_DESIGN|   4.4|  13791| 1,000,000+|Free|    0|        Art & Design|             2.9.2|\n",
            "|Kids Paint Free -...|ART_AND_DESIGN|   4.7|    121|    10,000+|Free|    0|Art & Design;Crea...|               2.8|\n",
            "|Text on Photo - F...|ART_AND_DESIGN|   4.4|  13880| 1,000,000+|Free|    0|        Art & Design|             1.0.4|\n",
            "|Name Art Photo Ed...|ART_AND_DESIGN|   4.4|   8788| 1,000,000+|Free|    0|        Art & Design|            1.0.15|\n",
            "|Tattoo Name On My...|ART_AND_DESIGN|   4.2|  44829|10,000,000+|Free|    0|        Art & Design|               3.8|\n",
            "|Mandala Coloring ...|ART_AND_DESIGN|   4.6|   4326|   100,000+|Free|    0|        Art & Design|             1.0.4|\n",
            "|3D Color Pixel by...|ART_AND_DESIGN|   4.4|   1518|   100,000+|Free|    0|        Art & Design|             1.2.3|\n",
            "|Learn To Draw Kaw...|ART_AND_DESIGN|   3.2|     55|     5,000+|Free|    0|        Art & Design|               NaN|\n",
            "|Photo Designer - ...|ART_AND_DESIGN|   4.7|   3632|   500,000+|Free|    0|        Art & Design|               3.1|\n",
            "|350 Diy Room Deco...|ART_AND_DESIGN|   4.5|     27|    10,000+|Free|    0|        Art & Design|               1.0|\n",
            "|FlipaClip - Carto...|ART_AND_DESIGN|   4.3| 194216| 5,000,000+|Free|    0|        Art & Design|             2.2.5|\n",
            "|        ibis Paint X|ART_AND_DESIGN|   4.6| 224399|10,000,000+|Free|    0|        Art & Design|             5.5.4|\n",
            "+--------------------+--------------+------+-------+-----------+----+-----+--------------------+------------------+\n",
            "only showing top 20 rows\n",
            "\n"
          ]
        }
      ]
    },
    {
      "cell_type": "code",
      "source": [
        "df = df.drop('Current Ver')"
      ],
      "metadata": {
        "id": "HCjq5RvxLnuC"
      },
      "execution_count": null,
      "outputs": []
    },
    {
      "cell_type": "code",
      "source": [
        "df.show(2)"
      ],
      "metadata": {
        "colab": {
          "base_uri": "https://localhost:8080/"
        },
        "id": "UCPVj1SPL7HN",
        "outputId": "0888f136-8b6f-4f85-c665-5d8d9d78b091"
      },
      "execution_count": null,
      "outputs": [
        {
          "output_type": "stream",
          "name": "stdout",
          "text": [
            "+--------------------+--------------+------+-------+--------+----+-----+--------------------+\n",
            "|                 App|      Category|Rating|Reviews|Installs|Type|Price|              Genres|\n",
            "+--------------------+--------------+------+-------+--------+----+-----+--------------------+\n",
            "|Photo Editor & Ca...|ART_AND_DESIGN|   4.1|    159| 10,000+|Free|    0|        Art & Design|\n",
            "| Coloring book moana|ART_AND_DESIGN|   3.9|    967|500,000+|Free|    0|Art & Design;Pret...|\n",
            "+--------------------+--------------+------+-------+--------+----+-----+--------------------+\n",
            "only showing top 2 rows\n",
            "\n"
          ]
        }
      ]
    },
    {
      "cell_type": "code",
      "source": [
        "df.printSchema()"
      ],
      "metadata": {
        "colab": {
          "base_uri": "https://localhost:8080/"
        },
        "id": "-bpU43T0L8lh",
        "outputId": "580095d4-f215-4092-c40f-5d6a00224ac6"
      },
      "execution_count": null,
      "outputs": [
        {
          "output_type": "stream",
          "name": "stdout",
          "text": [
            "root\n",
            " |-- App: string (nullable = true)\n",
            " |-- Category: string (nullable = true)\n",
            " |-- Rating: double (nullable = true)\n",
            " |-- Reviews: string (nullable = true)\n",
            " |-- Installs: string (nullable = true)\n",
            " |-- Type: string (nullable = true)\n",
            " |-- Price: string (nullable = true)\n",
            " |-- Genres: string (nullable = true)\n",
            "\n"
          ]
        }
      ]
    },
    {
      "cell_type": "code",
      "source": [
        "from pyspark.sql.functions import regexp_replace, col\n",
        "df = df.withColumn('Reviews', col('Reviews').cast(IntegerType()))\\\n",
        ".withColumn('Installs', regexp_replace('Installs', '[^0-9]', ''))\\\n",
        ".withColumn('Installs', col('Installs').cast(IntegerType()))\\\n",
        ".withColumn('Price', regexp_replace(col('Price'), '[$]', ''))\\\n",
        ".withColumn('Price', col('Price').cast(IntegerType()))\n"
      ],
      "metadata": {
        "id": "WtHtTAz0MAJy"
      },
      "execution_count": null,
      "outputs": []
    },
    {
      "cell_type": "code",
      "source": [
        "df.show(2)"
      ],
      "metadata": {
        "colab": {
          "base_uri": "https://localhost:8080/"
        },
        "id": "GJ5r9deGN_bv",
        "outputId": "514f6373-ec2e-4ba7-a70a-17a20e16f084"
      },
      "execution_count": null,
      "outputs": [
        {
          "output_type": "stream",
          "name": "stdout",
          "text": [
            "+--------------------+--------------+------+-------+--------+----+-----+--------------------+\n",
            "|                 App|      Category|Rating|Reviews|Installs|Type|Price|              Genres|\n",
            "+--------------------+--------------+------+-------+--------+----+-----+--------------------+\n",
            "|Photo Editor & Ca...|ART_AND_DESIGN|   4.1|    159|   10000|Free|    0|        Art & Design|\n",
            "| Coloring book moana|ART_AND_DESIGN|   3.9|    967|  500000|Free|    0|Art & Design;Pret...|\n",
            "+--------------------+--------------+------+-------+--------+----+-----+--------------------+\n",
            "only showing top 2 rows\n",
            "\n"
          ]
        }
      ]
    },
    {
      "source": [
        "df.createOrReplaceTempView('apps')\n",
        "spark.sql(\"SELECT * FROM apps\").show()"
      ],
      "cell_type": "code",
      "metadata": {
        "colab": {
          "base_uri": "https://localhost:8080/"
        },
        "id": "oh0cfCqePFht",
        "outputId": "7faeaf66-793c-4cca-c2a3-f478141e4aaa"
      },
      "execution_count": 32,
      "outputs": [
        {
          "output_type": "stream",
          "name": "stdout",
          "text": [
            "+--------------------+--------------+------+-------+--------+----+-----+--------------------+\n",
            "|                 App|      Category|Rating|Reviews|Installs|Type|Price|              Genres|\n",
            "+--------------------+--------------+------+-------+--------+----+-----+--------------------+\n",
            "|Photo Editor & Ca...|ART_AND_DESIGN|   4.1|    159|   10000|Free|    0|        Art & Design|\n",
            "| Coloring book moana|ART_AND_DESIGN|   3.9|    967|  500000|Free|    0|Art & Design;Pret...|\n",
            "|U Launcher Lite –...|ART_AND_DESIGN|   4.7|  87510| 5000000|Free|    0|        Art & Design|\n",
            "|Sketch - Draw & P...|ART_AND_DESIGN|   4.5| 215644|50000000|Free|    0|        Art & Design|\n",
            "|Pixel Draw - Numb...|ART_AND_DESIGN|   4.3|    967|  100000|Free|    0|Art & Design;Crea...|\n",
            "|Paper flowers ins...|ART_AND_DESIGN|   4.4|    167|   50000|Free|    0|        Art & Design|\n",
            "|Smoke Effect Phot...|ART_AND_DESIGN|   3.8|    178|   50000|Free|    0|        Art & Design|\n",
            "|    Infinite Painter|ART_AND_DESIGN|   4.1|  36815| 1000000|Free|    0|        Art & Design|\n",
            "|Garden Coloring Book|ART_AND_DESIGN|   4.4|  13791| 1000000|Free|    0|        Art & Design|\n",
            "|Kids Paint Free -...|ART_AND_DESIGN|   4.7|    121|   10000|Free|    0|Art & Design;Crea...|\n",
            "|Text on Photo - F...|ART_AND_DESIGN|   4.4|  13880| 1000000|Free|    0|        Art & Design|\n",
            "|Name Art Photo Ed...|ART_AND_DESIGN|   4.4|   8788| 1000000|Free|    0|        Art & Design|\n",
            "|Tattoo Name On My...|ART_AND_DESIGN|   4.2|  44829|10000000|Free|    0|        Art & Design|\n",
            "|Mandala Coloring ...|ART_AND_DESIGN|   4.6|   4326|  100000|Free|    0|        Art & Design|\n",
            "|3D Color Pixel by...|ART_AND_DESIGN|   4.4|   1518|  100000|Free|    0|        Art & Design|\n",
            "|Learn To Draw Kaw...|ART_AND_DESIGN|   3.2|     55|    5000|Free|    0|        Art & Design|\n",
            "|Photo Designer - ...|ART_AND_DESIGN|   4.7|   3632|  500000|Free|    0|        Art & Design|\n",
            "|350 Diy Room Deco...|ART_AND_DESIGN|   4.5|     27|   10000|Free|    0|        Art & Design|\n",
            "|FlipaClip - Carto...|ART_AND_DESIGN|   4.3| 194216| 5000000|Free|    0|        Art & Design|\n",
            "|        ibis Paint X|ART_AND_DESIGN|   4.6| 224399|10000000|Free|    0|        Art & Design|\n",
            "+--------------------+--------------+------+-------+--------+----+-----+--------------------+\n",
            "only showing top 20 rows\n",
            "\n"
          ]
        }
      ]
    },
    {
      "cell_type": "markdown",
      "source": [
        "# Most Reviewed Apps"
      ],
      "metadata": {
        "id": "1D8UzB9wPRj8"
      }
    },
    {
      "source": [
        "spark.sql(\"SELECT App, sum(Reviews) from Apps group by App order by sum(Reviews) desc limit 10\").show()"
      ],
      "cell_type": "code",
      "metadata": {
        "colab": {
          "base_uri": "https://localhost:8080/"
        },
        "id": "5LiQX7b5P8ZP",
        "outputId": "87fc3493-f77a-4ed1-9827-eabef0a08992"
      },
      "execution_count": 35,
      "outputs": [
        {
          "output_type": "stream",
          "name": "stdout",
          "text": [
            "+--------------------+------------+\n",
            "|                 App|sum(Reviews)|\n",
            "+--------------------+------------+\n",
            "|           Instagram|   266241989|\n",
            "|  WhatsApp Messenger|   207348304|\n",
            "|      Clash of Clans|   179558781|\n",
            "|Messenger – Text ...|   169932272|\n",
            "|      Subway Surfers|   166331958|\n",
            "|    Candy Crush Saga|   156993136|\n",
            "|            Facebook|   156286514|\n",
            "|         8 Ball Pool|    99386198|\n",
            "|        Clash Royale|    92530298|\n",
            "|            Snapchat|    68045010|\n",
            "+--------------------+------------+\n",
            "\n"
          ]
        }
      ]
    },
    {
      "cell_type": "markdown",
      "source": [
        "# Most Installed Apps"
      ],
      "metadata": {
        "id": "3nk74gutQNWa"
      }
    },
    {
      "cell_type": "code",
      "source": [
        "spark.sql(\"SELECT App, Type, sum(Installs) from Apps group by App, Type order by sum(Installs) desc limit 10\").show()"
      ],
      "metadata": {
        "colab": {
          "base_uri": "https://localhost:8080/"
        },
        "id": "9I7Tf50tQPnF",
        "outputId": "de1a227d-2901-4032-9d6b-7a93c4ea7cd2"
      },
      "execution_count": 37,
      "outputs": [
        {
          "output_type": "stream",
          "name": "stdout",
          "text": [
            "+------------------+----+-------------+\n",
            "|               App|Type|sum(Installs)|\n",
            "+------------------+----+-------------+\n",
            "|    Subway Surfers|Free|   6000000000|\n",
            "|         Instagram|Free|   4000000000|\n",
            "|      Google Drive|Free|   4000000000|\n",
            "|          Hangouts|Free|   4000000000|\n",
            "|     Google Photos|Free|   4000000000|\n",
            "|       Google News|Free|   4000000000|\n",
            "|  Candy Crush Saga|Free|   3500000000|\n",
            "|WhatsApp Messenger|Free|   3000000000|\n",
            "|             Gmail|Free|   3000000000|\n",
            "|      Temple Run 2|Free|   3000000000|\n",
            "+------------------+----+-------------+\n",
            "\n"
          ]
        }
      ]
    },
    {
      "cell_type": "markdown",
      "source": [
        "# Category Wise Distribution"
      ],
      "metadata": {
        "id": "KdhgHiJ7QuAS"
      }
    },
    {
      "cell_type": "code",
      "source": [
        "spark.sql(\"SELECT Category, sum(Installs) from Apps group by Category order by sum(installs) desc\").show()"
      ],
      "metadata": {
        "colab": {
          "base_uri": "https://localhost:8080/"
        },
        "id": "bT4qA2lVQqIS",
        "outputId": "b9d1788c-3069-4c2b-fefb-b9e89f074b0c"
      },
      "execution_count": 38,
      "outputs": [
        {
          "output_type": "stream",
          "name": "stdout",
          "text": [
            "+-------------------+-------------+\n",
            "|           Category|sum(Installs)|\n",
            "+-------------------+-------------+\n",
            "|               GAME|  35086024415|\n",
            "|      COMMUNICATION|  32647276251|\n",
            "|       PRODUCTIVITY|  14176091369|\n",
            "|             SOCIAL|  14069867902|\n",
            "|              TOOLS|  11452771915|\n",
            "|             FAMILY|  10258263505|\n",
            "|        PHOTOGRAPHY|  10088247655|\n",
            "| NEWS_AND_MAGAZINES|   7496317760|\n",
            "|   TRAVEL_AND_LOCAL|   6868887146|\n",
            "|      VIDEO_PLAYERS|   6222002720|\n",
            "|           SHOPPING|   3247848785|\n",
            "|      ENTERTAINMENT|   2869160000|\n",
            "|    PERSONALIZATION|   2325494782|\n",
            "|BOOKS_AND_REFERENCE|   1921469576|\n",
            "|             SPORTS|   1751174498|\n",
            "| HEALTH_AND_FITNESS|   1583072512|\n",
            "|           BUSINESS|   1001914865|\n",
            "|            FINANCE|    876648734|\n",
            "|          EDUCATION|    871452000|\n",
            "|MAPS_AND_NAVIGATION|    724281890|\n",
            "+-------------------+-------------+\n",
            "only showing top 20 rows\n",
            "\n"
          ]
        }
      ]
    },
    {
      "cell_type": "markdown",
      "source": [
        "# Top Paid Apps"
      ],
      "metadata": {
        "id": "K1cZaZ5FRMSp"
      }
    },
    {
      "source": [
        "spark.sql(\"SELECT App, sum(Price) from Apps where Type = 'Paid' group by App order by sum(Price) desc\").show()"
      ],
      "cell_type": "code",
      "metadata": {
        "colab": {
          "base_uri": "https://localhost:8080/"
        },
        "id": "euXbqtR7R2vM",
        "outputId": "7b300aeb-e949-4f09-db98-775eacc4497c"
      },
      "execution_count": 41,
      "outputs": [
        {
          "output_type": "stream",
          "name": "stdout",
          "text": [
            "+--------------------+----------+\n",
            "|                 App|sum(Price)|\n",
            "+--------------------+----------+\n",
            "|I'm Rich - Trump ...|       400|\n",
            "|   I Am Rich Premium|       399|\n",
            "|  I AM RICH PRO PLUS|       399|\n",
            "|I'm Rich/Eu sou R...|       399|\n",
            "|      I am Rich Plus|       399|\n",
            "|most expensive ap...|       399|\n",
            "|       I Am Rich Pro|       399|\n",
            "|  I am rich(premium)|       399|\n",
            "|           I am Rich|       399|\n",
            "|          I am Rich!|       399|\n",
            "|         💎 I'm rich|       399|\n",
            "|I am rich (Most e...|       399|\n",
            "|           I am rich|       399|\n",
            "|         Eu Sou Rico|       394|\n",
            "|           I Am Rich|       389|\n",
            "| I am extremely Rich|       379|\n",
            "|       I am rich VIP|       299|\n",
            "|        EP Cook Book|       200|\n",
            "|Vargo Anesthesia ...|       158|\n",
            "|       cronometra-br|       154|\n",
            "+--------------------+----------+\n",
            "only showing top 20 rows\n",
            "\n"
          ]
        }
      ]
    }
  ]
}